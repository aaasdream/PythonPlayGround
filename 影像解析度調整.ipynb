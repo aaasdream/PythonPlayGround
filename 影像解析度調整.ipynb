{
 "cells": [
  {
   "cell_type": "markdown",
   "id": "18a799a9",
   "metadata": {},
   "source": [
    "# ios上架有一堆解析度需要調整，這裡做個工具幫忙調整"
   ]
  },
  {
   "cell_type": "markdown",
   "id": "e024c7ff",
   "metadata": {},
   "source": [
    "## 照片調整"
   ]
  },
  {
   "cell_type": "code",
   "execution_count": null,
   "id": "567e6f1e",
   "metadata": {},
   "outputs": [],
   "source": [
    "import cv2\n",
    "InputVideoPathName = 'lava.mp4'  #輸入影像的路徑與檔名\n",
    "OutPutWidth = 1280                #輸出寬度\n",
    "OutPutHeight = 720                 #輸出高度\n",
    "OutputVideoPathName = 'lava720p.mp4'  #輸出影像的路徑與檔名\n",
    "\n",
    "\n",
    "#=======================輸入設定====================================\n",
    "video = cv2.VideoCapture(InputVideoPathName)\n",
    "# 取得影像的尺寸大小\n",
    "width = video.get(cv2.CAP_PROP_FRAME_WIDTH)\n",
    "height = video.get(cv2.CAP_PROP_FRAME_HEIGHT)\n",
    "fps = video.get(cv2.CAP_PROP_FPS) #每秒鐘幾張\n",
    "print (\"原始寬度{} 高度{} FPS{}\".format(width , height,fps))\n",
    "\n",
    "\n",
    "#=======================輸出檔案設定=======================\n",
    "fourcc = cv2.VideoWriter_fourcc(*'mp4v')\n",
    "out = cv2.VideoWriter(OutputVideoPathName, fourcc, fps, (int(OutPutWidth),  int(OutPutHeight)))\n",
    "\n",
    "#=============開始轉換====================================\n",
    "while video.isOpened():\n",
    "    ret, frame = video.read()\n",
    "    if not ret:\n",
    "        break\n",
    "    image = cv2.resize(frame, (OutPutWidth, OutPutHeight), interpolation=cv2.INTER_CUBIC)\n",
    "    out.write(image)\n",
    "    cv2.imshow('frame', image)\n",
    "    if cv2.waitKey(1) == ord('q'):\n",
    "        break\n",
    "video.release()\n",
    "out.release()\n",
    "print(\"轉換完成\")\n",
    "cv2.waitKey(1)\n",
    "cv2.destroyAllWindows()"
   ]
  },
  {
   "cell_type": "markdown",
   "id": "701e45db",
   "metadata": {},
   "source": [
    "## 影片調整"
   ]
  },
  {
   "cell_type": "code",
   "execution_count": 8,
   "id": "a970452a",
   "metadata": {},
   "outputs": [
    {
     "name": "stdout",
     "output_type": "stream",
     "text": [
      "原始寬度1920.0 高度1080.0 FPS59.94005994005994\n"
     ]
    }
   ],
   "source": [
    "import cv2\n",
    "InputVideoPathName = 'lava.mp4'  #輸入影像的路徑與檔名\n",
    "OutPutWidth = 1280                #輸出寬度\n",
    "OutPutHeight = 720                 #輸出高度\n",
    "OutputVideoPathName = 'lava720p.mp4'  #輸出影像的路徑與檔名\n",
    "\n",
    "\n",
    "#=======================輸入設定====================================\n",
    "video = cv2.VideoCapture(InputVideoPathName)\n",
    "# 取得影像的尺寸大小\n",
    "width = video.get(cv2.CAP_PROP_FRAME_WIDTH)\n",
    "height = video.get(cv2.CAP_PROP_FRAME_HEIGHT)\n",
    "fps = video.get(cv2.CAP_PROP_FPS) #每秒鐘幾張\n",
    "print (\"原始寬度{} 高度{} FPS{}\".format(width , height,fps))\n",
    "\n",
    "\n",
    "#=======================輸出檔案設定=======================\n",
    "fourcc = cv2.VideoWriter_fourcc(*'mp4v')\n",
    "out = cv2.VideoWriter(OutputVideoPathName, fourcc, fps, (int(OutPutWidth),  int(OutPutHeight)))\n",
    "\n",
    "#=============開始轉換====================================\n",
    "while video.isOpened():\n",
    "    ret, frame = video.read()\n",
    "    if not ret:\n",
    "        break\n",
    "    image = cv2.resize(frame, (OutPutWidth, OutPutHeight), interpolation=cv2.INTER_CUBIC)\n",
    "    out.write(image)\n",
    "    cv2.imshow('frame', image)\n",
    "    if cv2.waitKey(1) == ord('q'):\n",
    "        break\n",
    "video.release()\n",
    "out.release()\n",
    "print(\"轉換完成\")\n",
    "cv2.waitKey(1)\n",
    "cv2.destroyAllWindows()"
   ]
  },
  {
   "cell_type": "code",
   "execution_count": null,
   "id": "c0be054b",
   "metadata": {},
   "outputs": [],
   "source": []
  }
 ],
 "metadata": {
  "kernelspec": {
   "display_name": "Python 3 (ipykernel)",
   "language": "python",
   "name": "python3"
  },
  "language_info": {
   "codemirror_mode": {
    "name": "ipython",
    "version": 3
   },
   "file_extension": ".py",
   "mimetype": "text/x-python",
   "name": "python",
   "nbconvert_exporter": "python",
   "pygments_lexer": "ipython3",
   "version": "3.9.10"
  }
 },
 "nbformat": 4,
 "nbformat_minor": 5
}
