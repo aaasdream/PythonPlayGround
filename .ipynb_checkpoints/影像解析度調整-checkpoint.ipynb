{
 "cells": [
  {
   "cell_type": "markdown",
   "id": "18a799a9",
   "metadata": {},
   "source": [
    "# ios上架有一堆解析度需要調整，這裡做個工具幫忙調整"
   ]
  },
  {
   "cell_type": "markdown",
   "id": "d41ebacb",
   "metadata": {},
   "source": [
    "## MAC FFMPEG 安裝方式\n",
    "```\n",
    "brew install ffmpeg\n",
    "```\n",
    "https://juejin.cn/post/6844904191433900040\n",
    "https://stackoverflow.com/questions/54161418/python3-6-add-audio-to-cv2-processed-video"
   ]
  },
  {
   "cell_type": "markdown",
   "id": "f8fce15f",
   "metadata": {},
   "source": [
    "6.5 吋 886 x 1920 像素（直向）  \n",
    "5.5 吋  1080 x 1920   \n",
    "4.7 吋   750 x 1334 像素  \n",
    "12.9 吋   1200 x 1600   \n",
    "9.7 吋    900 x 1200   "
   ]
  },
  {
   "cell_type": "markdown",
   "id": "80d2a459",
   "metadata": {},
   "source": [
    "## 函式庫先執行"
   ]
  },
  {
   "cell_type": "code",
   "execution_count": 3,
   "id": "a4ddac8b",
   "metadata": {},
   "outputs": [],
   "source": [
    "#opencv內建的Resize 比例會跑掉，這是用裁切的方式等比例放大或是縮小\n",
    "def AkingResize(img , OutPutWidth , OutPutHeight):\n",
    "    InimgW = img.shape[1]\n",
    "    InimgH = img.shape[0]\n",
    "    InRatio = InimgW / InimgH\n",
    "    OutRatio = OutPutWidth / OutPutHeight\n",
    "    if (OutRatio > InRatio): #更扁平 所以縮放的時候寬度一樣，原圖的高度要裁切\n",
    "        #print (\"壓扁\")\n",
    "        NewHeight = int(InimgW * OutPutHeight / OutPutWidth)\n",
    "        CenterY = InimgH / 2\n",
    "        StartY = int(CenterY - NewHeight / 2)\n",
    "        EndY = StartY + NewHeight\n",
    "        NewImg = img[StartY:EndY,0:InimgW]\n",
    "        Resizedimage = cv2.resize(NewImg, (OutPutWidth, OutPutHeight), interpolation=cv2.INTER_CUBIC)\n",
    "    elif (OutRatio < InRatio): #更高長 所以縮放的時候高度一樣，原圖的寬度要裁切\n",
    "        #print (\"長高\")\n",
    "        NewWidth = int(InimgH * OutPutWidth / OutPutHeight)\n",
    "        CenterX = InimgW / 2\n",
    "        StartX = int(CenterX - NewWidth / 2)\n",
    "        EndX = StartX + NewWidth\n",
    "        NewImg = img[0:InimgH,StartX:EndX]\n",
    "        Resizedimage = cv2.resize(NewImg, (OutPutWidth, OutPutHeight), interpolation=cv2.INTER_CUBIC)\n",
    "    else: #相同比例\n",
    "        Resizedimage = cv2.resize(img, (OutPutWidth, OutPutHeight), interpolation=cv2.INTER_CUBIC)\n",
    "    return Resizedimage"
   ]
  },
  {
   "cell_type": "markdown",
   "id": "e024c7ff",
   "metadata": {},
   "source": [
    "## 照片調整"
   ]
  },
  {
   "cell_type": "code",
   "execution_count": 20,
   "id": "567e6f1e",
   "metadata": {},
   "outputs": [
    {
     "name": "stdout",
     "output_type": "stream",
     "text": [
      "圖片轉換完成\n"
     ]
    }
   ],
   "source": [
    "import cv2\n",
    "InputPicPathName = r'/Users/aking/Desktop/IMG_6626.PNG'  #輸入影像的路徑與檔名\n",
    "OutPutWidth = 720             #輸出寬度\n",
    "OutPutHeight = 1280                #輸出高度\n",
    "OutputPicPathName = r'/Users/aking/Desktop/IMG_720p.PNG'   #輸出影像的路徑與檔名\n",
    "#=============開始轉換====================================\n",
    "img = cv2.imread(InputPicPathName)\n",
    "if (img.any() != None):\n",
    "    Resizedimage = AkingResize(img , OutPutWidth , OutPutHeight)\n",
    "    cv2.imwrite(OutputPicPathName, Resizedimage)\n",
    "    # 顯示圖片\n",
    "    #cv2.imshow('Resized image', Resizedimage)\n",
    "    #cv2.waitKey(3)\n",
    "    #cv2.destroyAllWindows()\n",
    "    print (\"圖片轉換完成\")\n",
    "    # 按下任意鍵則關閉所有視窗\n",
    "else:\n",
    "    print (\"圖片讀取失敗\")"
   ]
  },
  {
   "cell_type": "markdown",
   "id": "701e45db",
   "metadata": {},
   "source": [
    "## 影片調整"
   ]
  },
  {
   "cell_type": "code",
   "execution_count": 6,
   "id": "a970452a",
   "metadata": {},
   "outputs": [
    {
     "name": "stdout",
     "output_type": "stream",
     "text": [
      "原始寬度498.0 高度1080.0 FPS30.0\n"
     ]
    },
    {
     "name": "stderr",
     "output_type": "stream",
     "text": [
      "ffmpeg version 5.0 Copyright (c) 2000-2022 the FFmpeg developers\n",
      "  built with Apple clang version 13.0.0 (clang-1300.0.29.30)\n",
      "  configuration: --prefix=/usr/local/Cellar/ffmpeg/5.0 --enable-shared --enable-pthreads --enable-version3 --cc=clang --host-cflags= --host-ldflags= --enable-ffplay --enable-gnutls --enable-gpl --enable-libaom --enable-libbluray --enable-libdav1d --enable-libmp3lame --enable-libopus --enable-librav1e --enable-librist --enable-librubberband --enable-libsnappy --enable-libsrt --enable-libtesseract --enable-libtheora --enable-libvidstab --enable-libvmaf --enable-libvorbis --enable-libvpx --enable-libwebp --enable-libx264 --enable-libx265 --enable-libxml2 --enable-libxvid --enable-lzma --enable-libfontconfig --enable-libfreetype --enable-frei0r --enable-libass --enable-libopencore-amrnb --enable-libopencore-amrwb --enable-libopenjpeg --enable-libspeex --enable-libsoxr --enable-libzmq --enable-libzimg --disable-libjack --disable-indev=jack --enable-videotoolbox\n",
      "  libavutil      57. 17.100 / 57. 17.100\n",
      "  libavcodec     59. 18.100 / 59. 18.100\n",
      "  libavformat    59. 16.100 / 59. 16.100\n",
      "  libavdevice    59.  4.100 / 59.  4.100\n",
      "  libavfilter     8. 24.100 /  8. 24.100\n",
      "  libswscale      6.  4.100 /  6.  4.100\n",
      "  libswresample   4.  3.100 /  4.  3.100\n",
      "  libpostproc    56.  3.100 / 56.  3.100\n",
      "[mov,mp4,m4a,3gp,3g2,mj2 @ 0x7fec9df05840] stream 0, timescale not set\n",
      "Guessed Channel Layout for Input Stream #0.0 : stereo\n",
      "Input #0, mov,mp4,m4a,3gp,3g2,mj2, from '/Users/aking/Documents/2021Unity/LAVA/上架檔案/影片/Lava.mov':\n",
      "  Metadata:\n",
      "    major_brand     : qt  \n",
      "    minor_version   : 0\n",
      "    compatible_brands: qt  \n",
      "    creation_time   : 2022-04-03T16:07:37.000000Z\n",
      "    keywords        : iMovie\n",
      "    title           : App 預覽\n",
      "    com.apple.quicktime.author: \n",
      "    com.apple.quicktime.keywords: iMovie\n",
      "    com.apple.quicktime.displayname: App 預覽\n",
      "    com.apple.quicktime.title: App 預覽\n",
      "    com.apple.quicktime.description: 此影片是關於App 預覽\n",
      "  Duration: 00:00:27.87, start: 0.000000, bitrate: 60170 kb/s\n",
      "  Stream #0:0[0x1](zho): Audio: pcm_s24le (lpcm / 0x6D63706C), 48000 Hz, stereo, s32 (24 bit), 2304 kb/s (default)\n",
      "    Metadata:\n",
      "      creation_time   : 2022-04-03T16:07:37.000000Z\n",
      "      handler_name    : Core Media Audio\n",
      "      vendor_id       : [0][0][0][0]\n",
      "  Stream #0:1[0x2](und): Video: prores (Standard) (apcn / 0x6E637061), yuv422p10le(tv, bt709, progressive), 498x1080, 57832 kb/s, SAR 1:1 DAR 83:180, 30 fps, 30 tbr, 30k tbn (default)\n",
      "    Metadata:\n",
      "      creation_time   : 2022-04-03T16:07:37.000000Z\n",
      "      handler_name    : Core Media Video\n",
      "      vendor_id       : appl\n",
      "      encoder         : Apple ProRes 422\n",
      "      timecode        : 00:00:00:00\n",
      "  Stream #0:2[0x3](und): Data: none (tmcd / 0x64636D74), 0 kb/s (default)\n",
      "    Metadata:\n",
      "      creation_time   : 2022-04-03T16:07:37.000000Z\n",
      "      handler_name    : Core Media Time Code\n",
      "      timecode        : 00:00:00:00\n",
      "  Stream #0:3[0x0]: Video: mjpeg (Progressive), yuvj420p(pc, bt470bg/unknown/unknown), 498x1080 [SAR 72:72 DAR 83:180], 90k tbr, 90k tbn (attached pic)\n",
      "Stream mapping:\n",
      "  Stream #0:0 -> #0:0 (pcm_s24le (native) -> mp3 (libmp3lame))\n",
      "Press [q] to stop, [?] for help\n",
      "Output #0, mp3, to '/Users/aking/Documents/2021Unity/LAVA/上架檔案/影片/sound.mp3':\n",
      "  Metadata:\n",
      "    major_brand     : qt  \n",
      "    minor_version   : 0\n",
      "    compatible_brands: qt  \n",
      "    com.apple.quicktime.description: 此影片是關於App 預覽\n",
      "    keywords        : iMovie\n",
      "    TIT2            : App 預覽\n",
      "    com.apple.quicktime.author: \n",
      "    com.apple.quicktime.keywords: iMovie\n",
      "    com.apple.quicktime.displayname: App 預覽\n",
      "    com.apple.quicktime.title: App 預覽\n",
      "    TSSE            : Lavf59.16.100\n",
      "  Stream #0:0(zho): Audio: mp3, 48000 Hz, stereo, s32p, 256 kb/s (default)\n",
      "    Metadata:\n",
      "      creation_time   : 2022-04-03T16:07:37.000000Z\n",
      "      handler_name    : Core Media Audio\n",
      "      vendor_id       : [0][0][0][0]\n",
      "      encoder         : Lavc59.18.100 libmp3lame\n",
      "size=     873kB time=00:00:27.88 bitrate= 256.6kbits/s speed=90.4x    \n",
      "video:0kB audio:872kB subtitle:0kB other streams:0kB global headers:0kB muxing overhead: 0.135582%\n",
      "ffmpeg version 5.0 Copyright (c) 2000-2022 the FFmpeg developers\n",
      "  built with Apple clang version 13.0.0 (clang-1300.0.29.30)\n",
      "  configuration: --prefix=/usr/local/Cellar/ffmpeg/5.0 --enable-shared --enable-pthreads --enable-version3 --cc=clang --host-cflags= --host-ldflags= --enable-ffplay --enable-gnutls --enable-gpl --enable-libaom --enable-libbluray --enable-libdav1d --enable-libmp3lame --enable-libopus --enable-librav1e --enable-librist --enable-librubberband --enable-libsnappy --enable-libsrt --enable-libtesseract --enable-libtheora --enable-libvidstab --enable-libvmaf --enable-libvorbis --enable-libvpx --enable-libwebp --enable-libx264 --enable-libx265 --enable-libxml2 --enable-libxvid --enable-lzma --enable-libfontconfig --enable-libfreetype --enable-frei0r --enable-libass --enable-libopencore-amrnb --enable-libopencore-amrwb --enable-libopenjpeg --enable-libspeex --enable-libsoxr --enable-libzmq --enable-libzimg --disable-libjack --disable-indev=jack --enable-videotoolbox\n",
      "  libavutil      57. 17.100 / 57. 17.100\n",
      "  libavcodec     59. 18.100 / 59. 18.100\n",
      "  libavformat    59. 16.100 / 59. 16.100\n",
      "  libavdevice    59.  4.100 / 59.  4.100\n",
      "  libavfilter     8. 24.100 /  8. 24.100\n",
      "  libswscale      6.  4.100 /  6.  4.100\n",
      "  libswresample   4.  3.100 /  4.  3.100\n",
      "  libpostproc    56.  3.100 / 56.  3.100\n",
      "Input #0, mov,mp4,m4a,3gp,3g2,mj2, from '/Users/aking/Documents/2021Unity/LAVA/上架檔案/影片/TmpVideo.mp4':\n",
      "  Metadata:\n",
      "    major_brand     : isom\n",
      "    minor_version   : 512\n",
      "    compatible_brands: isomiso2avc1mp41\n",
      "    encoder         : Lavf58.76.100\n",
      "  Duration: 00:00:27.87, start: 0.000000, bitrate: 29447 kb/s\n",
      "  Stream #0:0[0x1](und): Video: h264 (High) (avc1 / 0x31637661), yuv420p(progressive), 1200x1600 [SAR 1:1 DAR 3:4], 29444 kb/s, 30 fps, 30 tbr, 15360 tbn (default)\n",
      "    Metadata:\n",
      "      handler_name    : VideoHandler\n",
      "      vendor_id       : [0][0][0][0]\n",
      "Input #1, mp3, from '/Users/aking/Documents/2021Unity/LAVA/上架檔案/影片/sound.mp3':\n",
      "  Metadata:\n",
      "    major_brand     : qt  \n",
      "    minor_version   : 0\n",
      "    compatible_brands: qt  \n",
      "    com.apple.quicktime.description: 此影片是關於App 預覽\n",
      "    keywords        : iMovie\n",
      "    title           : App 預覽\n",
      "    com.apple.quicktime.author: \n",
      "    com.apple.quicktime.keywords: iMovie\n",
      "    com.apple.quicktime.displayname: App 預覽\n",
      "    com.apple.quicktime.title: App 預覽\n",
      "    encoder         : Lavf59.16.100\n",
      "  Duration: 00:00:27.91, start: 0.023021, bitrate: 256 kb/s\n",
      "  Stream #1:0: Audio: mp3, 48000 Hz, stereo, fltp, 256 kb/s\n",
      "    Metadata:\n",
      "      encoder         : Lavc59.18\n",
      "Output #0, mp4, to '/Users/aking/Documents/2021Unity/LAVA/上架檔案/影片/TmpVideoWithSound.mp4':\n",
      "  Metadata:\n",
      "    major_brand     : isom\n",
      "    minor_version   : 512\n",
      "    compatible_brands: isomiso2avc1mp41\n",
      "    encoder         : Lavf59.16.100\n",
      "  Stream #0:0(und): Video: h264 (High) (avc1 / 0x31637661), yuv420p(progressive), 1200x1600 [SAR 1:1 DAR 3:4], q=2-31, 29444 kb/s, 30 fps, 30 tbr, 15360 tbn (default)\n",
      "    Metadata:\n",
      "      handler_name    : VideoHandler\n",
      "      vendor_id       : [0][0][0][0]\n",
      "  Stream #0:1: Audio: mp3 (mp4a / 0x6134706D), 48000 Hz, stereo, fltp, 256 kb/s\n",
      "    Metadata:\n",
      "      encoder         : Lavc59.18\n",
      "Stream mapping:\n",
      "  Stream #0:0 -> #0:0 (copy)\n",
      "  Stream #1:0 -> #0:1 (copy)\n",
      "Press [q] to stop, [?] for help\n",
      "frame=  836 fps=0.0 q=-1.0 Lsize=  101058kB time=00:00:27.88 bitrate=29684.5kbits/s speed= 325x    \n",
      "video:100161kB audio:872kB subtitle:0kB other streams:0kB global headers:0kB muxing overhead: 0.024997%\n"
     ]
    },
    {
     "name": "stdout",
     "output_type": "stream",
     "text": [
      "轉換完成\n"
     ]
    },
    {
     "name": "stderr",
     "output_type": "stream",
     "text": [
      "ffmpeg version 5.0 Copyright (c) 2000-2022 the FFmpeg developers\n",
      "  built with Apple clang version 13.0.0 (clang-1300.0.29.30)\n",
      "  configuration: --prefix=/usr/local/Cellar/ffmpeg/5.0 --enable-shared --enable-pthreads --enable-version3 --cc=clang --host-cflags= --host-ldflags= --enable-ffplay --enable-gnutls --enable-gpl --enable-libaom --enable-libbluray --enable-libdav1d --enable-libmp3lame --enable-libopus --enable-librav1e --enable-librist --enable-librubberband --enable-libsnappy --enable-libsrt --enable-libtesseract --enable-libtheora --enable-libvidstab --enable-libvmaf --enable-libvorbis --enable-libvpx --enable-libwebp --enable-libx264 --enable-libx265 --enable-libxml2 --enable-libxvid --enable-lzma --enable-libfontconfig --enable-libfreetype --enable-frei0r --enable-libass --enable-libopencore-amrnb --enable-libopencore-amrwb --enable-libopenjpeg --enable-libspeex --enable-libsoxr --enable-libzmq --enable-libzimg --disable-libjack --disable-indev=jack --enable-videotoolbox\n",
      "  libavutil      57. 17.100 / 57. 17.100\n",
      "  libavcodec     59. 18.100 / 59. 18.100\n",
      "  libavformat    59. 16.100 / 59. 16.100\n",
      "  libavdevice    59.  4.100 / 59.  4.100\n",
      "  libavfilter     8. 24.100 /  8. 24.100\n",
      "  libswscale      6.  4.100 /  6.  4.100\n",
      "  libswresample   4.  3.100 /  4.  3.100\n",
      "  libpostproc    56.  3.100 / 56.  3.100\n",
      "Input #0, mov,mp4,m4a,3gp,3g2,mj2, from '/Users/aking/Documents/2021Unity/LAVA/上架檔案/影片/TmpVideoWithSound.mp4':\n",
      "  Metadata:\n",
      "    major_brand     : isom\n",
      "    minor_version   : 512\n",
      "    compatible_brands: isomiso2avc1mp41\n",
      "    encoder         : Lavf59.16.100\n",
      "  Duration: 00:00:27.89, start: 0.000000, bitrate: 29684 kb/s\n",
      "  Stream #0:0[0x1](und): Video: h264 (High) (avc1 / 0x31637661), yuv420p(progressive), 1200x1600 [SAR 1:1 DAR 3:4], 29444 kb/s, 30 fps, 30 tbr, 15360 tbn (default)\n",
      "    Metadata:\n",
      "      handler_name    : VideoHandler\n",
      "      vendor_id       : [0][0][0][0]\n",
      "  Stream #0:1[0x2](und): Audio: mp3 (mp4a / 0x6134706D), 48000 Hz, stereo, fltp, 256 kb/s (default)\n",
      "    Metadata:\n",
      "      handler_name    : SoundHandler\n",
      "      vendor_id       : [0][0][0][0]\n",
      "[AVFilterGraph @ 0x7fcedb9049c0] No such filter: ''\n",
      "Error initializing complex filters.\n",
      "Invalid argument\n"
     ]
    }
   ],
   "source": [
    "import cv2\n",
    "import os\n",
    "\n",
    "InputVideoPathName = r'/Users/aking/Documents/2021Unity/LAVA/上架檔案/影片/Lava.mov'  #輸入影像的路徑與檔名\n",
    "OutPutWidth = 1200              #輸出寬度\n",
    "OutPutHeight = 1600                 #輸出高度\n",
    "OutputVideoPathName = r'/Users/aking/Documents/2021Unity/LAVA/上架檔案/影片/Lava1200S.mp4'   #輸出影像的路徑與檔名\n",
    "\n",
    "\n",
    "#=======================輸入設定====================================\n",
    "video = cv2.VideoCapture(InputVideoPathName)\n",
    "# 取得影像的尺寸大小\n",
    "width = video.get(cv2.CAP_PROP_FRAME_WIDTH)\n",
    "height = video.get(cv2.CAP_PROP_FRAME_HEIGHT)\n",
    "fps = video.get(cv2.CAP_PROP_FPS) #每秒鐘幾張\n",
    "print (\"原始寬度{} 高度{} FPS{}\".format(width , height,fps))\n",
    "\n",
    "\n",
    "#=======================輸出檔案設定=======================\n",
    "fourcc = cv2.VideoWriter_fourcc(*'avc1')\n",
    "VideoFilePath = r\"{}/TmpVideo.mp4\".format(os.path.dirname(InputVideoPathName)) #解析度調整後的畫面\n",
    "SoundFilePath = r\"{}/sound.mp3\".format(os.path.dirname(InputVideoPathName))    #原始檔案分離出聲音\n",
    "VideoWithSoundFilePath = r\"{}/TmpVideoWithSound.mp4\".format(os.path.dirname(InputVideoPathName)) #畫面與聲音合成影片\n",
    "#畫面與聲音合成影片 之後需要再轉檔一次 app store才會接受\n",
    "\n",
    "out = cv2.VideoWriter(VideoFilePath, fourcc, fps, (int(OutPutWidth),  int(OutPutHeight)))\n",
    "#=============開始轉換====================================\n",
    "while video.isOpened():\n",
    "    ret, frame = video.read()\n",
    "    if not ret:\n",
    "        break\n",
    "    image = AkingResize(frame, OutPutWidth, OutPutHeight)\n",
    "    out.write(image)\n",
    "    cv2.imshow('frame', image)\n",
    "    if cv2.waitKey(1) == ord('q'):\n",
    "        break\n",
    "video.release()\n",
    "out.release()\n",
    "\n",
    "CMD = r\"ffmpeg -i {} -f mp3 -ab 256000 -vn {}\".format(InputVideoPathName,SoundFilePath) #原始檔案分離出聲音\n",
    "os.system(CMD) #原始檔案分離出聲音\n",
    "\n",
    "\n",
    "CMD1 = r\"ffmpeg -i {} -i {} -c copy -map 0:v:0 -map 1:a:0 {}\".format(VideoFilePath, SoundFilePath , VideoWithSoundFilePath)\n",
    "os.system(CMD1) #畫面與聲音合成影片\n",
    "\n",
    "CMD2 = \"ffmpeg -i {} -filter_complex 'scale={}:{},framerate=30' {}\".format(VideoWithSoundFilePath , OutPutWidth,OutPutHeight,OutputVideoPathName)\n",
    "os.system(CMD2) #最後再轉檔案一次 App store才會吃\n",
    "\n",
    "\n",
    "\n",
    "os.system(\"rm -f {}\".format(VideoFilePath)) \n",
    "os.system(\"rm -f {}\".format(SoundFilePath)) \n",
    "os.system(\"rm -f {}\".format(VideoWithSoundFilePath)) \n",
    "\n",
    "\n",
    "\n",
    "print(\"轉換完成\")\n",
    "cv2.destroyAllWindows()"
   ]
  },
  {
   "cell_type": "code",
   "execution_count": 9,
   "id": "8054af06",
   "metadata": {},
   "outputs": [
    {
     "data": {
      "text/plain": [
       "0"
      ]
     },
     "execution_count": 9,
     "metadata": {},
     "output_type": "execute_result"
    }
   ],
   "source": [
    "os.system(\"rm -f {}\".format(VideoFilePath)) "
   ]
  },
  {
   "cell_type": "code",
   "execution_count": 26,
   "id": "ebd4fffa",
   "metadata": {},
   "outputs": [
    {
     "name": "stdout",
     "output_type": "stream",
     "text": [
      "ffmpeg -i /Users/aking/Documents/2021Unity/LAVA/上架檔案/影片/Tmp.mp4 -i /Users/aking/Documents/2021Unity/LAVA/上架檔案/影片/sound.aac -c copy -map 0:v:0 -map 1:a:0 /Users/aking/Documents/2021Unity/LAVA/上架檔案/影片/Lava886S.mp4\n"
     ]
    }
   ],
   "source": [
    "ffmpeg -i /Users/aking/Documents/2021Unity/LAVA/上架檔案/影片/Lava.mov -filter_complex \"scale=1200:1600,framerate=30;\"  /Users/aking/Documents/2021Unity/LAVA/上架檔案/影片/ffout.mp4\n",
    "ffmpeg -i /Users/aking/Documents/2021Unity/LAVA/上架檔案/影片/Lava.mov -filter_complex \"[0:v]setpts=1*PTS,scale=1200:1600,framerate=30[v];[0:a]atempo=8.0[a]\" -map \"[v]\" -map \"[a]\" /Users/aking/Documents/2021Unity/LAVA/上架檔案/影片/ffout1600.mp4"
   ]
  },
  {
   "cell_type": "code",
   "execution_count": null,
   "id": "7a1f504d",
   "metadata": {},
   "outputs": [],
   "source": [
    "ffmpeg -i /Users/aking/Documents/2021Unity/LAVA/上架檔案/影片/Lava.mov -vf scale=640:360 /Users/aking/Documents/2021Unity/LAVA/上架檔案/影片/ffout.mp4"
   ]
  }
 ],
 "metadata": {
  "kernelspec": {
   "display_name": "Python 3 (ipykernel)",
   "language": "python",
   "name": "python3"
  },
  "language_info": {
   "codemirror_mode": {
    "name": "ipython",
    "version": 3
   },
   "file_extension": ".py",
   "mimetype": "text/x-python",
   "name": "python",
   "nbconvert_exporter": "python",
   "pygments_lexer": "ipython3",
   "version": "3.9.12"
  }
 },
 "nbformat": 4,
 "nbformat_minor": 5
}
