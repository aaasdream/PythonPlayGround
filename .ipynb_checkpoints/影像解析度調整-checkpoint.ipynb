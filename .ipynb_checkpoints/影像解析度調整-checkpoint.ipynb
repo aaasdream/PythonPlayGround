{
 "cells": [
  {
   "cell_type": "markdown",
   "id": "18a799a9",
   "metadata": {},
   "source": [
    "# ios上架有一堆解析度需要調整，這裡做個工具幫忙調整"
   ]
  },
  {
   "cell_type": "markdown",
   "id": "f8fce15f",
   "metadata": {},
   "source": [
    "6.5 吋 886 x 1920 像素（直向）  \n",
    "5.5 吋  1080 x 1920   \n",
    "4.7 吋   750 x 1334 像素  \n",
    "12.9 吋   1200 x 1600   \n",
    "9.7 吋    900 x 1200   "
   ]
  },
  {
   "cell_type": "code",
   "execution_count": 19,
   "id": "a4ddac8b",
   "metadata": {},
   "outputs": [],
   "source": [
    "#opencv內建的Resize 比例會跑掉，這是用裁切的方式等比例放大或是縮小\n",
    "def AkingResize(img , OutPutWidth , OutPutHeight):\n",
    "    InimgW = img.shape[1]\n",
    "    InimgH = img.shape[0]\n",
    "    InRatio = InimgW / InimgH\n",
    "    OutRatio = OutPutWidth / OutPutHeight\n",
    "    if (OutRatio > InRatio): #更扁平 所以縮放的時候寬度一樣，原圖的高度要裁切\n",
    "        #print (\"壓扁\")\n",
    "        NewHeight = int(InimgW * OutPutHeight / OutPutWidth)\n",
    "        CenterY = InimgH / 2\n",
    "        StartY = int(CenterY - NewHeight / 2)\n",
    "        EndY = StartY + NewHeight\n",
    "        NewImg = img[StartY:EndY,0:InimgW]\n",
    "        Resizedimage = cv2.resize(NewImg, (OutPutWidth, OutPutHeight), interpolation=cv2.INTER_CUBIC)\n",
    "    elif (OutRatio < InRatio): #更高長 所以縮放的時候高度一樣，原圖的寬度要裁切\n",
    "        #print (\"長高\")\n",
    "        NewWidth = int(InimgH * OutPutWidth / OutPutHeight)\n",
    "        CenterX = InimgW / 2\n",
    "        StartX = int(CenterX - NewWidth / 2)\n",
    "        EndX = StartX + NewWidth\n",
    "        NewImg = img[0:InimgH,StartX:EndX]\n",
    "        Resizedimage = cv2.resize(NewImg, (OutPutWidth, OutPutHeight), interpolation=cv2.INTER_CUBIC)\n",
    "    else: #相同比例\n",
    "        Resizedimage = cv2.resize(img, (OutPutWidth, OutPutHeight), interpolation=cv2.INTER_CUBIC)\n",
    "    return Resizedimage"
   ]
  },
  {
   "cell_type": "markdown",
   "id": "e024c7ff",
   "metadata": {},
   "source": [
    "## 照片調整"
   ]
  },
  {
   "cell_type": "code",
   "execution_count": 20,
   "id": "567e6f1e",
   "metadata": {},
   "outputs": [
    {
     "name": "stdout",
     "output_type": "stream",
     "text": [
      "圖片轉換完成\n"
     ]
    }
   ],
   "source": [
    "import cv2\n",
    "InputPicPathName = r'/Users/aking/Desktop/IMG_6626.PNG'  #輸入影像的路徑與檔名\n",
    "OutPutWidth = 720             #輸出寬度\n",
    "OutPutHeight = 1280                #輸出高度\n",
    "OutputPicPathName = r'/Users/aking/Desktop/IMG_720p.PNG'   #輸出影像的路徑與檔名\n",
    "#=============開始轉換====================================\n",
    "img = cv2.imread(InputPicPathName)\n",
    "if (img.any() != None):\n",
    "    Resizedimage = AkingResize(img , OutPutWidth , OutPutHeight)\n",
    "    cv2.imwrite(OutputPicPathName, Resizedimage)\n",
    "    # 顯示圖片\n",
    "    #cv2.imshow('Resized image', Resizedimage)\n",
    "    #cv2.waitKey(3)\n",
    "    #cv2.destroyAllWindows()\n",
    "    print (\"圖片轉換完成\")\n",
    "    # 按下任意鍵則關閉所有視窗\n",
    "else:\n",
    "    print (\"圖片讀取失敗\")"
   ]
  },
  {
   "cell_type": "markdown",
   "id": "701e45db",
   "metadata": {},
   "source": [
    "## 影片調整"
   ]
  },
  {
   "cell_type": "code",
   "execution_count": 22,
   "id": "a970452a",
   "metadata": {},
   "outputs": [
    {
     "name": "stdout",
     "output_type": "stream",
     "text": [
      "原始寬度1920.0 高度1080.0 FPS59.94005994005994\n",
      "轉換完成\n"
     ]
    }
   ],
   "source": [
    "import cv2\n",
    "InputVideoPathName = r'/Users/aking/Desktop/lava.mp4'  #輸入影像的路徑與檔名\n",
    "OutPutWidth = 600                #輸出寬度\n",
    "OutPutHeight = 1280                 #輸出高度\n",
    "OutputVideoPathName = r'/Users/aking/Desktop/lavaOut.mp4'   #輸出影像的路徑與檔名\n",
    "\n",
    "\n",
    "#=======================輸入設定====================================\n",
    "video = cv2.VideoCapture(InputVideoPathName)\n",
    "# 取得影像的尺寸大小\n",
    "width = video.get(cv2.CAP_PROP_FRAME_WIDTH)\n",
    "height = video.get(cv2.CAP_PROP_FRAME_HEIGHT)\n",
    "fps = video.get(cv2.CAP_PROP_FPS) #每秒鐘幾張\n",
    "print (\"原始寬度{} 高度{} FPS{}\".format(width , height,fps))\n",
    "\n",
    "\n",
    "#=======================輸出檔案設定=======================\n",
    "fourcc = cv2.VideoWriter_fourcc(*'mp4v')\n",
    "out = cv2.VideoWriter(OutputVideoPathName, fourcc, fps, (int(OutPutWidth),  int(OutPutHeight)))\n",
    "\n",
    "#=============開始轉換====================================\n",
    "while video.isOpened():\n",
    "    ret, frame = video.read()\n",
    "    if not ret:\n",
    "        break\n",
    "    image = AkingResize(frame, OutPutWidth, OutPutHeight)\n",
    "    out.write(image)\n",
    "    cv2.imshow('frame', image)\n",
    "    if cv2.waitKey(1) == ord('q'):\n",
    "        break\n",
    "video.release()\n",
    "out.release()\n",
    "print(\"轉換完成\")\n",
    "cv2.destroyAllWindows()"
   ]
  },
  {
   "cell_type": "code",
   "execution_count": null,
   "id": "c0be054b",
   "metadata": {},
   "outputs": [],
   "source": []
  }
 ],
 "metadata": {
  "kernelspec": {
   "display_name": "Python 3 (ipykernel)",
   "language": "python",
   "name": "python3"
  },
  "language_info": {
   "codemirror_mode": {
    "name": "ipython",
    "version": 3
   },
   "file_extension": ".py",
   "mimetype": "text/x-python",
   "name": "python",
   "nbconvert_exporter": "python",
   "pygments_lexer": "ipython3",
   "version": "3.9.10"
  }
 },
 "nbformat": 4,
 "nbformat_minor": 5
}
